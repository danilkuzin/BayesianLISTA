{
 "cells": [
  {
   "cell_type": "markdown",
   "metadata": {},
   "source": [
    "# With Edward"
   ]
  },
  {
   "cell_type": "code",
   "execution_count": 4,
   "metadata": {},
   "outputs": [],
   "source": [
    "import tensorflow_probability as tfp\n",
    "from tensorflow_probability import edward2 as ed\n",
    "import numpy as np"
   ]
  },
  {
   "cell_type": "code",
   "execution_count": 5,
   "metadata": {},
   "outputs": [],
   "source": [
    "x_train = np.linspace(-3, 3, num=50)\n",
    "y_train = np.cos(x_train) + np.random.normal(0, 0.1, size=50)\n",
    "x_train = x_train.astype(np.float32).reshape((50, 1))\n",
    "y_train = y_train.astype(np.float32).reshape((50, 1))"
   ]
  },
  {
   "cell_type": "code",
   "execution_count": 7,
   "metadata": {},
   "outputs": [],
   "source": [
    "W_0 = ed.Normal(loc=tf.zeros([1, 2]), scale=tf.ones([1, 2]))\n",
    "W_1 = ed.Normal(loc=tf.zeros([2, 1]), scale=tf.ones([2, 1]))\n",
    "b_0 = ed.Normal(loc=tf.zeros(2), scale=tf.ones(2))\n",
    "b_1 = ed.Normal(loc=tf.zeros(1), scale=tf.ones(1))\n",
    "\n",
    "x = x_train\n",
    "y = ed.Normal(loc=tf.matmul(tf.tanh(tf.matmul(x, W_0) + b_0), W_1) + b_1,\n",
    "           scale=0.1)"
   ]
  },
  {
   "cell_type": "code",
   "execution_count": 8,
   "metadata": {},
   "outputs": [],
   "source": [
    "qW_0 = ed.Normal(loc=tf.get_variable(\"qW_0/loc\", [1, 2]),\n",
    "              scale=tf.nn.softplus(tf.get_variable(\"qW_0/scale\", [1, 2])))\n",
    "qW_1 = ed.Normal(loc=tf.get_variable(\"qW_1/loc\", [2, 1]),\n",
    "              scale=tf.nn.softplus(tf.get_variable(\"qW_1/scale\", [2, 1])))\n",
    "qb_0 = ed.Normal(loc=tf.get_variable(\"qb_0/loc\", [2]),\n",
    "              scale=tf.nn.softplus(tf.get_variable(\"qb_0/scale\", [2])))\n",
    "qb_1 = ed.Normal(loc=tf.get_variable(\"qb_1/loc\", [1]),\n",
    "              scale=tf.nn.softplus(tf.get_variable(\"qb_1/scale\", [1])))"
   ]
  },
  {
   "cell_type": "code",
   "execution_count": 12,
   "metadata": {},
   "outputs": [
    {
     "ename": "IndentationError",
     "evalue": "unexpected indent (<ipython-input-12-e3302c05ad7a>, line 3)",
     "output_type": "error",
     "traceback": [
      "\u001b[0;36m  File \u001b[0;32m\"<ipython-input-12-e3302c05ad7a>\"\u001b[0;36m, line \u001b[0;32m3\u001b[0m\n\u001b[0;31m    W_1: qW_1, b_1: qb_1}, data={y: y_train})\u001b[0m\n\u001b[0m    ^\u001b[0m\n\u001b[0;31mIndentationError\u001b[0m\u001b[0;31m:\u001b[0m unexpected indent\n"
     ]
    }
   ],
   "source": [
    "# ed1\n",
    "# inference = ed.KLqp({W_0: qW_0, b_0: qb_0,\n",
    "#                     W_1: qW_1, b_1: qb_1}, data={y: y_train})\n",
    "# inference.run(n_iter=1000)\n",
    "\n",
    "# ed2\n",
    "with ed.tape() as model_tape:\n",
    "    with ed.interception(make_value_setter(W_0=qW_0, b_0=qb_0, W_1=qW_1, b_1=qb_1, z1=qz1, z0=qz0)):\n",
    "        posterior_predictive = deep_exponential_family(data_size, feature_size, units, shape)\n",
    "\n",
    "log_likelihood = posterior_predictive.distribution.log_prob(y_train)\n",
    "\n",
    "# Compute analytic KL-divergence between variational and prior distributions.\n",
    "kl = 0.\n",
    "for rv_name, variational_rv in [(\"z0\", qz0), (\"z1\", qz1), (\"z2\", qz2),\n",
    "                                (\"w0\", qw0), (\"w1\", qw1), (\"w2\", qw2)]:\n",
    "  kl += tf.reduce_sum(variational_rv.distribution.kl_divergence(\n",
    "      model_tape[rv_name].distribution))\n",
    "\n",
    "elbo = tf.reduce_mean(log_likelihood - kl)\n",
    "tf.summary.scalar(\"elbo\", elbo)\n",
    "optimizer = tf.train.AdamOptimizer(1e-3)\n",
    "train_op = optimizer.minimize(-elbo)"
   ]
  },
  {
   "cell_type": "code",
   "execution_count": null,
   "metadata": {},
   "outputs": [],
   "source": []
  }
 ],
 "metadata": {
  "kernelspec": {
   "display_name": "Python 3",
   "language": "python",
   "name": "python3"
  },
  "language_info": {
   "codemirror_mode": {
    "name": "ipython",
    "version": 3
   },
   "file_extension": ".py",
   "mimetype": "text/x-python",
   "name": "python",
   "nbconvert_exporter": "python",
   "pygments_lexer": "ipython3",
   "version": "3.6.6"
  }
 },
 "nbformat": 4,
 "nbformat_minor": 2
}
