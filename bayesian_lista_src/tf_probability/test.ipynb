{
 "cells": [
  {
   "cell_type": "markdown",
   "metadata": {},
   "source": [
    "# TF probability experiments for lista"
   ]
  },
  {
   "cell_type": "code",
   "execution_count": null,
   "metadata": {},
   "outputs": [],
   "source": [
    "import tensorflow as tf\n",
    "import tensorflow_probability as tfp\n",
    "tfd = tfp.distributions\n",
    "tfb = tfp.bijectors\n",
    "\n",
    "from DataGenerator import DataGenerator"
   ]
  },
  {
   "cell_type": "markdown",
   "metadata": {},
   "source": [
    "## Load data"
   ]
  },
  {
   "cell_type": "code",
   "execution_count": 31,
   "metadata": {},
   "outputs": [],
   "source": [
    "class ProbabilisticDataGenerator:\n",
    "    def __init__(self, D, K, sparsity=0.8, beta_scale=1., noise_scale=0.5):\n",
    "        self.D = D  # beta\n",
    "        self.K = K  # y\n",
    "        self.beta_scale = beta_scale\n",
    "        self.noise_scale = noise_scale\n",
    "        self.sparsity = sparsity\n",
    "\n",
    "#         self.X = np.random.randn(K, D)\n",
    "        \n",
    "        # TODO add truncated dist\n",
    "        self.slab_dist = tfd.Normal(loc=0., scale=self.beta_scale)\n",
    "        self.omega_dist = tfd.Bernoulli(self.sparsity)\n",
    "        self.Beta_dist = (1 - self.omega_dist) * self.slab_dist\n",
    "        \n",
    "\n",
    "#     def sample_slab(self, N, borders=(-0.1, 0.1)):\n",
    "#         slab = np.zeros((N, self.D))\n",
    "#         for i1 in range(N):\n",
    "#             for i2 in range(self.D):\n",
    "#                 sampled = False\n",
    "#                 while not sampled:\n",
    "#                     sample = np.random.normal(loc=0, scale=self.beta_scale, size=None)\n",
    "#                     if sample < borders[0] or sample > borders[1]:\n",
    "#                         slab[i1, i2] = sample\n",
    "#                         sampled = True\n",
    "#         return slab\n",
    "\n",
    "#     def sample_omega(self, N):\n",
    "#         omega = np.zeros((N, self.D))\n",
    "#         eps = 1e-3\n",
    "#         for n in range(N):\n",
    "#             sampled = False\n",
    "#             while not sampled:\n",
    "#                 omega[n] = np.random.binomial(1, self.sparsity, size=(1, self.D))\n",
    "#                 if np.sum(1-omega[n]) > eps and np.sum(omega[n]) > eps:\n",
    "#                     sampled = True\n",
    "#         return omega\n",
    "\n",
    "\n",
    "#     def new_sample(self, N):\n",
    "#         Y = np.zeros((N, self.K))\n",
    "#         omega = self.sample_omega(N)\n",
    "#         Beta = (1-omega) * self.sample_slab(N)\n",
    "#         Noise = np.random.normal(loc=0, scale=self.noise_scale, size=(N, self.K))\n",
    "#         for n in np.arange(N):\n",
    "#             Y[n] = np.dot(self.X, Beta[n]) + Noise[n]\n",
    "\n",
    "#         return Beta, Y, Noise\n",
    "    "
   ]
  },
  {
   "cell_type": "code",
   "execution_count": 32,
   "metadata": {},
   "outputs": [],
   "source": [
    "D = 100\n",
    "K = 50\n",
    "\n",
    "n_train=100"
   ]
  },
  {
   "cell_type": "code",
   "execution_count": 33,
   "metadata": {},
   "outputs": [
    {
     "ename": "TypeError",
     "evalue": "unsupported operand type(s) for -: 'int' and 'Bernoulli'",
     "output_type": "error",
     "traceback": [
      "\u001b[0;31m---------------------------------------------------------------------------\u001b[0m",
      "\u001b[0;31mTypeError\u001b[0m                                 Traceback (most recent call last)",
      "\u001b[0;32m<ipython-input-33-c74e1e9ed469>\u001b[0m in \u001b[0;36m<module>\u001b[0;34m\u001b[0m\n\u001b[0;32m----> 1\u001b[0;31m \u001b[0mdata_generator\u001b[0m \u001b[0;34m=\u001b[0m \u001b[0mProbabilisticDataGenerator\u001b[0m\u001b[0;34m(\u001b[0m\u001b[0mD\u001b[0m\u001b[0;34m,\u001b[0m \u001b[0mK\u001b[0m\u001b[0;34m)\u001b[0m\u001b[0;34m\u001b[0m\u001b[0m\n\u001b[0m",
      "\u001b[0;32m<ipython-input-31-27d636bd2ca5>\u001b[0m in \u001b[0;36m__init__\u001b[0;34m(self, D, K, sparsity, beta_scale, noise_scale)\u001b[0m\n\u001b[1;32m     12\u001b[0m         \u001b[0mself\u001b[0m\u001b[0;34m.\u001b[0m\u001b[0mslab_dist\u001b[0m \u001b[0;34m=\u001b[0m \u001b[0mtfd\u001b[0m\u001b[0;34m.\u001b[0m\u001b[0mNormal\u001b[0m\u001b[0;34m(\u001b[0m\u001b[0mloc\u001b[0m\u001b[0;34m=\u001b[0m\u001b[0;36m0.\u001b[0m\u001b[0;34m,\u001b[0m \u001b[0mscale\u001b[0m\u001b[0;34m=\u001b[0m\u001b[0mself\u001b[0m\u001b[0;34m.\u001b[0m\u001b[0mbeta_scale\u001b[0m\u001b[0;34m)\u001b[0m\u001b[0;34m\u001b[0m\u001b[0m\n\u001b[1;32m     13\u001b[0m         \u001b[0mself\u001b[0m\u001b[0;34m.\u001b[0m\u001b[0momega_dist\u001b[0m \u001b[0;34m=\u001b[0m \u001b[0mtfd\u001b[0m\u001b[0;34m.\u001b[0m\u001b[0mBernoulli\u001b[0m\u001b[0;34m(\u001b[0m\u001b[0mself\u001b[0m\u001b[0;34m.\u001b[0m\u001b[0msparsity\u001b[0m\u001b[0;34m)\u001b[0m\u001b[0;34m\u001b[0m\u001b[0m\n\u001b[0;32m---> 14\u001b[0;31m         \u001b[0mself\u001b[0m\u001b[0;34m.\u001b[0m\u001b[0mBeta_dist\u001b[0m \u001b[0;34m=\u001b[0m \u001b[0;34m(\u001b[0m\u001b[0;36m1\u001b[0m \u001b[0;34m-\u001b[0m \u001b[0mself\u001b[0m\u001b[0;34m.\u001b[0m\u001b[0momega_dist\u001b[0m\u001b[0;34m)\u001b[0m \u001b[0;34m*\u001b[0m \u001b[0mself\u001b[0m\u001b[0;34m.\u001b[0m\u001b[0mslab_dist\u001b[0m\u001b[0;34m\u001b[0m\u001b[0m\n\u001b[0m\u001b[1;32m     15\u001b[0m \u001b[0;34m\u001b[0m\u001b[0m\n\u001b[1;32m     16\u001b[0m \u001b[0;34m\u001b[0m\u001b[0m\n",
      "\u001b[0;31mTypeError\u001b[0m: unsupported operand type(s) for -: 'int' and 'Bernoulli'"
     ]
    }
   ],
   "source": [
    "data_generator = ProbabilisticDataGenerator(D, K)"
   ]
  },
  {
   "cell_type": "code",
   "execution_count": 15,
   "metadata": {},
   "outputs": [],
   "source": [
    "train_data_beta, train_data_y, _ = data_generator.new_sample(n_train)\n",
    "\n",
    "X = data_generator.X"
   ]
  },
  {
   "cell_type": "code",
   "execution_count": null,
   "metadata": {},
   "outputs": [],
   "source": []
  }
 ],
 "metadata": {
  "kernelspec": {
   "display_name": "Python 3",
   "language": "python",
   "name": "python3"
  },
  "language_info": {
   "codemirror_mode": {
    "name": "ipython",
    "version": 3
   },
   "file_extension": ".py",
   "mimetype": "text/x-python",
   "name": "python",
   "nbconvert_exporter": "python",
   "pygments_lexer": "ipython3",
   "version": "3.6.6"
  }
 },
 "nbformat": 4,
 "nbformat_minor": 2
}
